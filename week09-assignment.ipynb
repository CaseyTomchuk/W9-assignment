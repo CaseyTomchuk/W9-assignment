{
 "cells": [
  {
   "cell_type": "markdown",
   "metadata": {},
   "source": [
    "# Week 9 Assignment: Descriptive Statistics and Data Analysis\n",
    "\n",
    "**Course**: ISM4641 Python for Business Analytics  \n",
    "**Instructor**: Dr. Smith  \n",
    "**Due Date**: See Canvas  \n",
    "\n",
    "---\n",
    "\n",
    "## Instructions\n",
    "\n",
    "Complete all questions in this notebook. For each question:\n",
    "- Write your code in the provided code cells\n",
    "- Add markdown cells to explain your findings where requested\n",
    "- Ensure all code runs without errors\n",
    "- Submit the completed notebook to Canvas\n",
    "\n",
    "**Total Points**: 100\n",
    "\n",
    "---"
   ]
  },
  {
   "cell_type": "markdown",
   "metadata": {},
   "source": [
    "## Setup: Import Libraries and Load Data\n",
    "\n",
    "Run this cell first to import necessary libraries and generate the dataset for this assignment."
   ]
  },
  {
   "cell_type": "code",
   "execution_count": 2,
   "metadata": {},
   "outputs": [
    {
     "name": "stdout",
     "output_type": "stream",
     "text": [
      "Dataset loaded successfully!\n",
      "\n",
      "Dataset shape: (150, 8)\n",
      "\n",
      "First few rows:\n"
     ]
    },
    {
     "data": {
      "text/html": [
       "<div>\n",
       "<style scoped>\n",
       "    .dataframe tbody tr th:only-of-type {\n",
       "        vertical-align: middle;\n",
       "    }\n",
       "\n",
       "    .dataframe tbody tr th {\n",
       "        vertical-align: top;\n",
       "    }\n",
       "\n",
       "    .dataframe thead th {\n",
       "        text-align: right;\n",
       "    }\n",
       "</style>\n",
       "<table border=\"1\" class=\"dataframe\">\n",
       "  <thead>\n",
       "    <tr style=\"text-align: right;\">\n",
       "      <th></th>\n",
       "      <th>Store_ID</th>\n",
       "      <th>Region</th>\n",
       "      <th>Monthly_Sales</th>\n",
       "      <th>Customer_Count</th>\n",
       "      <th>Employee_Count</th>\n",
       "      <th>Store_Size_SqFt</th>\n",
       "      <th>Marketing_Spend</th>\n",
       "      <th>Customer_Satisfaction</th>\n",
       "    </tr>\n",
       "  </thead>\n",
       "  <tbody>\n",
       "    <tr>\n",
       "      <th>0</th>\n",
       "      <td>ST0001</td>\n",
       "      <td>East</td>\n",
       "      <td>126205.173712</td>\n",
       "      <td>601</td>\n",
       "      <td>19</td>\n",
       "      <td>3109.915021</td>\n",
       "      <td>10113.935802</td>\n",
       "      <td>3.932698</td>\n",
       "    </tr>\n",
       "    <tr>\n",
       "      <th>1</th>\n",
       "      <td>ST0002</td>\n",
       "      <td>West</td>\n",
       "      <td>118466.290905</td>\n",
       "      <td>618</td>\n",
       "      <td>15</td>\n",
       "      <td>3153.953450</td>\n",
       "      <td>7322.351478</td>\n",
       "      <td>5.000000</td>\n",
       "    </tr>\n",
       "    <tr>\n",
       "      <th>2</th>\n",
       "      <td>ST0003</td>\n",
       "      <td>North</td>\n",
       "      <td>110148.734391</td>\n",
       "      <td>615</td>\n",
       "      <td>20</td>\n",
       "      <td>3815.561714</td>\n",
       "      <td>9176.613351</td>\n",
       "      <td>5.000000</td>\n",
       "    </tr>\n",
       "    <tr>\n",
       "      <th>3</th>\n",
       "      <td>ST0004</td>\n",
       "      <td>East</td>\n",
       "      <td>94422.395971</td>\n",
       "      <td>585</td>\n",
       "      <td>21</td>\n",
       "      <td>3163.212415</td>\n",
       "      <td>7669.644879</td>\n",
       "      <td>3.886284</td>\n",
       "    </tr>\n",
       "    <tr>\n",
       "      <th>4</th>\n",
       "      <td>ST0005</td>\n",
       "      <td>East</td>\n",
       "      <td>79363.909620</td>\n",
       "      <td>624</td>\n",
       "      <td>8</td>\n",
       "      <td>3731.819886</td>\n",
       "      <td>5828.054874</td>\n",
       "      <td>3.947888</td>\n",
       "    </tr>\n",
       "  </tbody>\n",
       "</table>\n",
       "</div>"
      ],
      "text/plain": [
       "  Store_ID Region  Monthly_Sales  Customer_Count  Employee_Count  \\\n",
       "0   ST0001   East  126205.173712             601              19   \n",
       "1   ST0002   West  118466.290905             618              15   \n",
       "2   ST0003  North  110148.734391             615              20   \n",
       "3   ST0004   East   94422.395971             585              21   \n",
       "4   ST0005   East   79363.909620             624               8   \n",
       "\n",
       "   Store_Size_SqFt  Marketing_Spend  Customer_Satisfaction  \n",
       "0      3109.915021     10113.935802               3.932698  \n",
       "1      3153.953450      7322.351478               5.000000  \n",
       "2      3815.561714      9176.613351               5.000000  \n",
       "3      3163.212415      7669.644879               3.886284  \n",
       "4      3731.819886      5828.054874               3.947888  "
      ]
     },
     "execution_count": 2,
     "metadata": {},
     "output_type": "execute_result"
    }
   ],
   "source": [
    "import pandas as pd\n",
    "import numpy as np\n",
    "import matplotlib.pyplot as plt\n",
    "import seaborn as sns\n",
    "\n",
    "# Set random seed for reproducibility\n",
    "np.random.seed(42)\n",
    "\n",
    "# Generate retail store performance data\n",
    "n_stores = 150\n",
    "\n",
    "retail_data = pd.DataFrame({\n",
    "    'Store_ID': [f'ST{i:04d}' for i in range(1, n_stores + 1)],\n",
    "    'Region': np.random.choice(['North', 'South', 'East', 'West'], n_stores),\n",
    "    'Monthly_Sales': np.random.normal(65000, 18000, n_stores),\n",
    "    'Customer_Count': np.random.poisson(600, n_stores),\n",
    "    'Employee_Count': np.random.randint(5, 25, n_stores),\n",
    "    'Store_Size_SqFt': np.random.normal(3500, 800, n_stores),\n",
    "    'Marketing_Spend': np.random.uniform(2000, 15000, n_stores),\n",
    "    'Customer_Satisfaction': np.random.normal(4.2, 0.6, n_stores)\n",
    "})\n",
    "\n",
    "# Add some relationship between variables\n",
    "retail_data['Monthly_Sales'] = (\n",
    "    retail_data['Monthly_Sales'] + \n",
    "    retail_data['Store_Size_SqFt'] * 8 + \n",
    "    retail_data['Marketing_Spend'] * 2\n",
    ")\n",
    "\n",
    "# Ensure positive values and realistic ranges\n",
    "retail_data['Monthly_Sales'] = retail_data['Monthly_Sales'].clip(lower=20000)\n",
    "retail_data['Customer_Satisfaction'] = retail_data['Customer_Satisfaction'].clip(1, 5)\n",
    "\n",
    "print(\"Dataset loaded successfully!\")\n",
    "print(f\"\\nDataset shape: {retail_data.shape}\")\n",
    "print(f\"\\nFirst few rows:\")\n",
    "retail_data.head()"
   ]
  },
  {
   "cell_type": "markdown",
   "metadata": {},
   "source": [
    "---\n",
    "\n",
    "## Part 1: Measures of Central Tendency (20 points)\n",
    "\n",
    "### Question 1.1 (10 points)\n",
    "\n",
    "Calculate the **mean**, **median**, and **mode** for the `Monthly_Sales` column.\n",
    "\n",
    "- Print each value with appropriate labels\n",
    "- Format monetary values with dollar signs and comma separators\n",
    "- In a markdown cell below your code, explain which measure best represents the \"typical\" monthly sales and why"
   ]
  },
  {
   "cell_type": "code",
   "execution_count": 3,
   "metadata": {},
   "outputs": [
    {
     "name": "stdout",
     "output_type": "stream",
     "text": [
      "Mean Sales: $112,430.05\n",
      "Median Sales: $113,702.10\n",
      "Mode Sales (limited to 5/149): \n",
      "$62,754.23\n",
      "$66,463.20\n",
      "$67,543.42\n",
      "$74,246.34\n",
      "$76,147.21\n"
     ]
    }
   ],
   "source": [
    "# Your code here for Question 1.1\n",
    "mean_sales = retail_data['Monthly_Sales'].mean()\n",
    "median_sales = retail_data['Monthly_Sales'].median()\n",
    "mode_sales = retail_data['Monthly_Sales'].mode()\n",
    "\n",
    "print(f\"Mean Sales: ${mean_sales:,.2f}\")  # formatting and labeling in one step.\n",
    "print(f\"Median Sales: ${median_sales:,.2f}\") \n",
    "\n",
    "# There were 149 values that shared the same frequency. I used .head(5) to limit the data to just a small sample, and put it inside a for loop to properly format it since a dataframe is returned.\n",
    "print(\"Mode Sales (limited to 5/149): \") \n",
    "for mode in mode_sales.head(5): \n",
    "    print(f\"${mode:,.2f}\")"
   ]
  },
  {
   "cell_type": "markdown",
   "metadata": {},
   "source": [
    "**Your explanation here:**\n",
    "(Explain which measure best represents typical sales and why)\n",
    "\n",
    "Immediately, it was apparent that mode was not going to be the best measure of sales, since there were 149 values that appeared with the same frequency. That leaves me with mean and median, from which I believe that median is the better choice (although they come out to be very close.) In general, using the median is a wiser choice as it represents an exact midpoint, and is unable to be influenced by outliers. We're looking for a value representative of a typical sale, not the average of all sales values."
   ]
  },
  {
   "cell_type": "markdown",
   "metadata": {},
   "source": [
    "### Question 1.2 (10 points)\n",
    "\n",
    "Calculate the mean `Customer_Satisfaction` score for each region.\n",
    "\n",
    "- Group the data by `Region`\n",
    "- Calculate the mean satisfaction score for each region\n",
    "- Sort the results from highest to lowest satisfaction\n",
    "- In a markdown cell, identify which region has the highest satisfaction and suggest one possible business reason for this"
   ]
  },
  {
   "cell_type": "code",
   "execution_count": 4,
   "metadata": {},
   "outputs": [
    {
     "name": "stdout",
     "output_type": "stream",
     "text": [
      "       Satisfaction Scores\n",
      "West: 4.37\n",
      "North: 4.31\n",
      "South: 4.21\n",
      "East: 4.18\n"
     ]
    }
   ],
   "source": [
    "# created a new df where the data is grouped by region, then found the average satisfaction score based on that\n",
    "retail_by_region = retail_data.groupby('Region')\n",
    "average_satisfaction = retail_by_region['Customer_Satisfaction'].mean()\n",
    "\n",
    "# satisfaction scores grouped by region in descending order\n",
    "print(\"       Satisfaction Scores\")\n",
    "for region, satisfaction in average_satisfaction.sort_values(ascending = False).items():\n",
    "    print(f\"{region}: {satisfaction:.2f}\")"
   ]
  },
  {
   "cell_type": "markdown",
   "metadata": {},
   "source": [
    "**Your analysis here:**\n",
    "\n",
    "(Identify highest satisfaction region and suggest a business reason)\n",
    "\n",
    "The highest satisfaction region is the West. This might just be because of slight variations in the data, as all of the values seem to be relatively close. However, if I had to provide further analysis, a possible explanation is that the west region has a lower sample size, meaning that there aren't as many low satisfaction scores that would likely pop up in a larger sample size."
   ]
  },
  {
   "cell_type": "markdown",
   "metadata": {},
   "source": [
    "---\n",
    "\n",
    "## Part 2: Measures of Variability (25 points)\n",
    "\n",
    "### Question 2.1 (15 points)\n",
    "\n",
    "For the `Monthly_Sales` column, calculate:\n",
    "\n",
    "1. Range (max - min)\n",
    "2. Variance\n",
    "3. Standard Deviation\n",
    "4. Interquartile Range (IQR)\n",
    "5. Coefficient of Variation (CV)\n",
    "\n",
    "Print all five measures with clear labels and appropriate formatting."
   ]
  },
  {
   "cell_type": "code",
   "execution_count": 12,
   "metadata": {},
   "outputs": [
    {
     "name": "stdout",
     "output_type": "stream",
     "text": [
      "Sales Range: $103,878.56\n",
      "Sales Varation: $387,607,841.47\n",
      "Standard Deviation: $19,687.76\n",
      "Interquartile Range: $24,967.40\n",
      "Sales Coefficient of Variation: $0.18\n"
     ]
    }
   ],
   "source": [
    "# Your code here for Question 2.1\n",
    "sales_range = retail_data['Monthly_Sales'].max() - retail_data['Monthly_Sales'].min() # max - min = range\n",
    "sales_var = retail_data['Monthly_Sales'].var()\n",
    "sales_std = retail_data['Monthly_Sales'].std()\n",
    "\n",
    "sales_q1 = retail_data['Monthly_Sales'].quantile(0.25)\n",
    "sales_q3 = retail_data['Monthly_Sales'].quantile(0.75)\n",
    "sales_iqr = sales_q3 - sales_q1 # IQR = q3 - q1\n",
    "\n",
    "sales_cv = sales_std / mean_sales # coefficient of varation = std / mean\n",
    "\n",
    "#print(f\"${a:,.2f}\") \n",
    "print(f\"Sales Range: ${sales_range:,.2f}\") \n",
    "print(f\"Sales Varation: ${sales_var:,.2f}\") \n",
    "print(f\"Standard Deviation: ${sales_std:,.2f}\") \n",
    "print(f\"Interquartile Range: ${sales_iqr:,.2f}\") \n",
    "print(f\"Sales Coefficient of Variation: ${sales_cv:,.2f}\") "
   ]
  },
  {
   "cell_type": "markdown",
   "metadata": {},
   "source": [
    "### Question 2.2 (10 points)\n",
    "\n",
    "Using the Empirical Rule (68-95-99.7 rule), calculate the range where approximately 95% of monthly sales values should fall (mean ± 2 standard deviations).\n",
    "\n",
    "- Calculate the lower and upper bounds\n",
    "- Count how many stores actually fall within this range\n",
    "- Calculate the actual percentage\n",
    "- In a markdown cell, compare the actual percentage to the expected 95% and explain if they match"
   ]
  },
  {
   "cell_type": "code",
   "execution_count": 20,
   "metadata": {},
   "outputs": [
    {
     "name": "stdout",
     "output_type": "stream",
     "text": [
      "Stores that fall in the 95% range: 143\n",
      "Total count: 150\n",
      "Percentage of stores that actually fall in the range: 0.9533\n"
     ]
    }
   ],
   "source": [
    "# Your code here for Question 2.2\n",
    "lower_bound = mean_sales - 2 * sales_std\n",
    "upper_bound = mean_sales + 2 * sales_std\n",
    "\n",
    "range_count = ((retail_data['Monthly_Sales'] >= lower_bound) & (retail_data['Monthly_Sales'] <= upper_bound)).sum()\n",
    "print(f\"Stores that fall in the 95% range: {range_count}\")\n",
    "\n",
    "total_count = retail_data['Monthly_Sales'].shape[0]\n",
    "print(f\"Total count: {total_count}\")\n",
    "\n",
    "range_percent = range_count / total_count\n",
    "print(f\"Percentage of stores that actually fall in the range: {range_percent:.4f}\")\n"
   ]
  },
  {
   "cell_type": "markdown",
   "metadata": {},
   "source": [
    "**Your comparison here:**\n",
    "\n",
    "143 / 150 stores fall within the expected range. In fact, its a surpsingly perfect match. The actual percentage is 95.33% which tells us that the data is behaving as expected."
   ]
  },
  {
   "cell_type": "markdown",
   "metadata": {},
   "source": [
    "---\n",
    "\n",
    "## Part 3: Percentiles and Quartiles (15 points)\n",
    "\n",
    "### Question 3.1 (15 points)\n",
    "\n",
    "For the `Marketing_Spend` column:\n",
    "\n",
    "1. Calculate the 10th, 25th, 50th, 75th, and 90th percentiles\n",
    "2. Identify stores in the bottom 10% (10th percentile or below)\n",
    "3. Identify stores in the top 10% (90th percentile or above)\n",
    "4. In a markdown cell, interpret what these percentiles tell you about marketing spending patterns and make a recommendation for the bottom 10% of stores"
   ]
  },
  {
   "cell_type": "code",
   "execution_count": 37,
   "metadata": {},
   "outputs": [
    {
     "name": "stdout",
     "output_type": "stream",
     "text": [
      "Bottom 10% stores in terms of marketing spend\n",
      "\n",
      "    Store_ID Region  Marketing_Spend  Monthly_Sales\n",
      "13    ST0014   East      2292.101008   93970.048308\n",
      "24    ST0025   West      2239.078795  115908.119429\n",
      "33    ST0034  South      2142.945773  112654.314812\n",
      "45    ST0046   West      2610.557568   98538.580051\n",
      "48    ST0049  South      3076.382683  109951.602624\n",
      "62    ST0063  North      2405.380756  109488.794385\n",
      "65    ST0066  South      2668.535575   93767.500670\n",
      "71    ST0072  South      2976.791163  112065.081442\n",
      "101   ST0102  South      2512.548548  119303.787148\n",
      "107   ST0108   West      2441.297722  109657.902694\n",
      "118   ST0119   West      2481.099251   96594.876049\n",
      "122   ST0123  South      3000.391621   80331.445938\n",
      "126   ST0127  South      2849.632430  117111.210629\n",
      "135   ST0136  North      2317.210160  102583.238354\n",
      "137   ST0138  North      2276.502341  114821.127290\n",
      "\n",
      "Top 10% stores in terms of marketing spend\n",
      "\n",
      "    Store_ID Region  Marketing_Spend  Monthly_Sales\n",
      "5     ST0006   West     14329.892991  154735.996656\n",
      "20    ST0021  South     14797.228349  116926.898850\n",
      "59    ST0060  North     14178.786611  114397.621737\n",
      "84    ST0085   East     13925.076481  130384.692074\n",
      "86    ST0087  South     14353.085600  129698.835133\n",
      "99    ST0100  North     14839.684104  119352.765278\n",
      "100   ST0101   East     14272.771416   95713.944242\n",
      "103   ST0104   West     14028.228126  104523.918808\n",
      "106   ST0107  South     13901.347869  124666.263659\n",
      "110   ST0111   West     14017.150540  138290.699950\n",
      "111   ST0112   East     14623.757187  155724.971408\n",
      "112   ST0113   West     14275.464358  117805.741111\n",
      "140   ST0141   West     14207.880081  142323.292534\n",
      "142   ST0143   West     14973.143437  112191.220651\n",
      "149   ST0150   West     14793.085100  111903.769843\n"
     ]
    }
   ],
   "source": [
    "# Your code here for Question 3.1\n",
    "spend_10q = retail_data['Marketing_Spend'].quantile(0.10)\n",
    "spend_25q = retail_data['Marketing_Spend'].quantile(0.25)\n",
    "spend_50q = retail_data['Marketing_Spend'].quantile(0.50)\n",
    "spend_75q = retail_data['Marketing_Spend'].quantile(0.75)\n",
    "spend_90q = retail_data['Marketing_Spend'].quantile(0.90)\n",
    "\n",
    "print(\"Bottom 10% stores in terms of marketing spend\\n\")\n",
    "bottom_10 = retail_data[retail_data['Marketing_Spend'] <= spend_10q] # find the stores where the marketing spend is in the bottom 10%\n",
    "print(bottom_10[['Store_ID', 'Region', 'Marketing_Spend', 'Monthly_Sales']]) # then print the most relevant information relating to those stores to identify them\n",
    " \n",
    "print(\"\\nTop 10% stores in terms of marketing spend\\n\") # repeat the process for the top 10% of stores\n",
    "top_10 = retail_data[retail_data['Marketing_Spend'] >= spend_90q]\n",
    "print(top_10[['Store_ID', 'Region', 'Marketing_Spend', 'Monthly_Sales']])"
   ]
  },
  {
   "cell_type": "markdown",
   "metadata": {},
   "source": [
    "**Your interpretation and recommendation:**\n",
    "\n",
    "Stores with a lower marketing spend seem to have a lower monthly sales total compared to thne stores in the top 10% of marketing spend. For the bottom 10%: more income from monthly sales should be reinvested into marketing spend in order to in turn improve sales."
   ]
  },
  {
   "cell_type": "markdown",
   "metadata": {},
   "source": [
    "---\n",
    "\n",
    "## Part 4: Outlier Detection (15 points)\n",
    "\n",
    "### Question 4.1 (15 points)\n",
    "\n",
    "Using the IQR method, identify outliers in the `Monthly_Sales` column.\n",
    "\n",
    "1. Calculate Q1, Q3, and IQR\n",
    "2. Calculate the lower fence (Q1 - 1.5 × IQR)\n",
    "3. Calculate the upper fence (Q3 + 1.5 × IQR)\n",
    "4. Identify all stores that are outliers (below lower fence or above upper fence)\n",
    "5. Print the Store_ID, Region, and Monthly_Sales for all outlier stores\n",
    "6. In a markdown cell, analyze whether these outliers represent exceptional performance or problems that need attention"
   ]
  },
  {
   "cell_type": "code",
   "execution_count": null,
   "metadata": {},
   "outputs": [
    {
     "name": "stdout",
     "output_type": "stream",
     "text": [
      "Lower Outliers: \n",
      "\n",
      "Empty DataFrame\n",
      "Columns: [Store_ID, Region, Marketing_Spend, Monthly_Sales]\n",
      "Index: []\n",
      "Upper Outliers: \n",
      "\n",
      "   Store_ID Region  Marketing_Spend  Monthly_Sales\n",
      "18   ST0019   West      3811.628963  166632.786211\n"
     ]
    }
   ],
   "source": [
    "# Your code here for Question 4.1\n",
    "\n",
    "# 1. Q1, Q3 and IQR already calculated in part 2 I.e: sales_q1 = retail_data['Monthly_Sales'].quantile(0.25) & sales_iqr = sales_q3 - sales_q1\n",
    "\n",
    "lower_fence = sales_q1 - 1.5 * sales_iqr\n",
    "upper_fence = sales_q3 + 1.5 * sales_iqr\n",
    "\n",
    "# Decided to split into two seperate variables in order to easily identify high and low performers easier.\n",
    "lower_outlier = retail_data[retail_data['Monthly_Sales'] <= lower_fence]\n",
    "upper_outlier = retail_data[retail_data['Monthly_Sales'] >= upper_fence]\n",
    "\n",
    "print(\"Lower Outliers: \\n\")\n",
    "print(lower_outlier[['Store_ID', 'Region', 'Marketing_Spend', 'Monthly_Sales']])\n",
    "\n",
    "print(\"\\nUpper Outliers: \\n\")\n",
    "print(upper_outlier[['Store_ID', 'Region', 'Marketing_Spend', 'Monthly_Sales']])\n"
   ]
  },
  {
   "cell_type": "markdown",
   "metadata": {},
   "source": [
    "**Your outlier analysis:**\n",
    "\n",
    "There is only one extreme outlier in the entire dataset, a store with exceptionally high monthly sales. This means that there are no stores that are majorly underperforming. This means that there aren't any major issues, but there aren't many stores with exceptional performance either. The success of the stores seems to be pretty standardized. "
   ]
  },
  {
   "cell_type": "markdown",
   "metadata": {},
   "source": [
    "---\n",
    "\n",
    "## Part 5: Data Visualization (15 points)\n",
    "\n",
    "### Question 5.1 (15 points)\n",
    "\n",
    "Create a comprehensive visualization showing the distribution of `Monthly_Sales` using three plots:\n",
    "\n",
    "1. A **histogram** with 25 bins\n",
    "2. A **box plot**\n",
    "3. A **density plot**\n",
    "\n",
    "Requirements:\n",
    "- Display all three plots in a single figure using subplots (1 row, 3 columns)\n",
    "- Add appropriate titles, labels, and legends\n",
    "- Add vertical lines for the mean (red, dashed) and median (green, dashed) to the histogram and density plot\n",
    "- Set the figure size to (18, 5) for better visibility\n",
    "- In a markdown cell below, describe what each plot reveals about the sales distribution"
   ]
  },
  {
   "cell_type": "code",
   "execution_count": null,
   "metadata": {},
   "outputs": [
    {
     "data": {
      "image/png": "[encoded data removed]",
      "text/plain": [
       "<Figure size 1800x500 with 3 Axes>"
      ]
     },
     "metadata": {},
     "output_type": "display_data"
    }
   ],
   "source": [
    "# Your code here for Question 5.1\n",
    "\n",
    "# creating a subplot with 1 row and 3 columns.\n",
    "fig, (ax1, ax2, ax3) = plt.subplots(nrows = 1, ncols= 3, figsize = (18,5))\n",
    "\n",
    "# histogram with 25 bins, the vertical lines are stylized and labeled so they can be included in the legend.\n",
    "ax1.hist(retail_data['Monthly_Sales'], 25)\n",
    "ax1.axvline(mean_sales, color = 'red', linestyle = '--', label = 'mean')\n",
    "ax1.axvline(median_sales, color = 'lightgreen', linestyle = '--', label = 'median') # used lightgreen as green was a little hard to see\n",
    "ax1.set_title(\"Histogram\")\n",
    "ax1.set_xlabel(\"Monthly Sales\")\n",
    "ax1.set_ylabel(\"Frequency\")\n",
    "ax1.legend()\n",
    "\n",
    "ax2.boxplot(retail_data['Monthly_Sales'])\n",
    "ax2.set_title(\"Boxplot\")\n",
    "ax2.set_xticks([]) # clear the x ticks so that it doesn't just display \"1\"\n",
    "ax2.set_ylabel(\"Monthly Sales\")\n",
    "#ax2.legend()\n",
    "\n",
    "# since a density plot is made with seaborn, i used sns.kdeplot and then defined that it is axis 3 on the subplot, otherwise it follows the same formatting as the histogram\n",
    "sns.kdeplot(retail_data['Monthly_Sales'], ax=ax3)\n",
    "ax3.axvline(mean_sales, color = 'red', linestyle = '--', label = 'mean')\n",
    "ax3.axvline(median_sales, color = 'green', linestyle = '--', label = 'median')\n",
    "ax3.set_title(\"Density Plot\")\n",
    "ax3.legend()\n",
    "\n",
    "plt.show()"
   ]
  },
  {
   "cell_type": "markdown",
   "metadata": {},
   "source": [
    "**Your visualization interpretation:**\n",
    "\n",
    "The vertical lines help demonstrate just how close the mean and median are. Both are a reliable measure of central tendency in this case as there are no extreme outliers as is seen in the earlier parts of this project, and the data follows a normal distribution which can be seen in all of the plots above. The one extreme outlier can be seen on the boxplot above the 75th percentile, as well as at the far end of the histogram. The histogram reflects small variations in data the best while still demonstration that the data follows a normal distribution."
   ]
  },
  {
   "cell_type": "markdown",
   "metadata": {},
   "source": [
    "---\n",
    "\n",
    "## Part 6: Correlation Analysis (10 points)\n",
    "\n",
    "### Question 6.1 (10 points)\n",
    "\n",
    "Analyze the relationships between numerical variables:\n",
    "\n",
    "1. Create a correlation matrix for all numerical columns (excluding Store_ID)\n",
    "2. Create a heatmap visualization of the correlation matrix\n",
    "   - Use `annot=True` to show correlation values\n",
    "   - Use `cmap='coolwarm'` for the color scheme\n",
    "   - Set `center=0` and `vmin=-1, vmax=1`\n",
    "3. In a markdown cell, identify the two variables with the strongest positive correlation and explain what this means for business decision-making"
   ]
  },
  {
   "cell_type": "code",
   "execution_count": null,
   "metadata": {},
   "outputs": [],
   "source": [
    "# Your code here for Question 6.1\n"
   ]
  },
  {
   "cell_type": "markdown",
   "metadata": {},
   "source": [
    "**Your correlation analysis:**\n",
    "\n",
    "(Identify strongest correlation and business implications)"
   ]
  }
 ],
 "metadata": {
  "kernelspec": {
   "display_name": "Python 3",
   "language": "python",
   "name": "python3"
  },
  "language_info": {
   "codemirror_mode": {
    "name": "ipython",
    "version": 3
   },
   "file_extension": ".py",
   "mimetype": "text/x-python",
   "name": "python",
   "nbconvert_exporter": "python",
   "pygments_lexer": "ipython3",
   "version": "3.13.3"
  }
 },
 "nbformat": 4,
 "nbformat_minor": 4
}
